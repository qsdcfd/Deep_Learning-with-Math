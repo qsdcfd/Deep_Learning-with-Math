{
  "nbformat": 4,
  "nbformat_minor": 0,
  "metadata": {
    "colab": {
      "name": "for문을 활용하는법",
      "provenance": [],
      "authorship_tag": "ABX9TyPjXin+jiKHbXvNsHgNWWmR"
    },
    "kernelspec": {
      "name": "python3",
      "display_name": "Python 3"
    },
    "language_info": {
      "name": "python"
    }
  },
  "cells": [
    {
      "cell_type": "code",
      "execution_count": null,
      "metadata": {
        "id": "TE3i2tqeBBH9"
      },
      "outputs": [],
      "source": [
        "temp_list = [(i+10) for i in range(11)]\n",
        "\n",
        "for data_index in range(len(temp_list)): #range안에는 명시적 숫자보단 변수\n",
        "    print(data_index, temp_list[data_index])"
      ]
    },
    {
      "cell_type": "code",
      "source": [
        "for data in temp_list:\n",
        "    print(data)"
      ],
      "metadata": {
        "id": "UU0yfBTND43R"
      },
      "execution_count": null,
      "outputs": []
    },
    {
      "cell_type": "code",
      "source": [
        "temp_list = [(i+10) for i in range(11)]\n",
        "temp_list2 = [(i+20) for i in range(11)]\n",
        "\n",
        "for data_idx in range(len(temp_list)):\n",
        "    print(data_idx, temp_list[data_idx], temp_list2[data_idx],\n",
        "          temp_list[data_idx] + temp_list2[data_idx])\n"
      ],
      "metadata": {
        "id": "KqQqYwlSD7YW"
      },
      "execution_count": null,
      "outputs": []
    },
    {
      "cell_type": "code",
      "source": [
        "temp_list = [(i+10) for i in range(11)]\n",
        "\n",
        "for data_idx, data in enumerate(temp_list):\n",
        "    print(data_idx, data)"
      ],
      "metadata": {
        "id": "SRmzCQbrEktO"
      },
      "execution_count": null,
      "outputs": []
    },
    {
      "cell_type": "code",
      "source": [
        "def avg1(temp_list):\n",
        "\n",
        "    sum_val = 0\n",
        "\n",
        "    for data_idx, data in enumerate(temp_list):\n",
        "        sum_val +=data\n",
        "    mean = sum_val / len(temp_list)\n",
        "\n",
        "    return mean"
      ],
      "metadata": {
        "id": "mconJMX5FJeI"
      },
      "execution_count": 6,
      "outputs": []
    },
    {
      "cell_type": "code",
      "source": [
        "temp_list = [(i+10) for i in range(10)]\n",
        "avg1(temp_list)"
      ],
      "metadata": {
        "colab": {
          "base_uri": "https://localhost:8080/"
        },
        "id": "iHBCZO0cFY6Z",
        "outputId": "0d6c863a-a1ae-4fb1-906d-7679dbed5841"
      },
      "execution_count": 11,
      "outputs": [
        {
          "output_type": "execute_result",
          "data": {
            "text/plain": [
              "14.5"
            ]
          },
          "metadata": {},
          "execution_count": 11
        }
      ]
    },
    {
      "cell_type": "code",
      "source": [
        "def cond_avg1(temp_list):\n",
        "    sum_val = 0\n",
        "    data_cnt = 0\n",
        "    for data_idx, data in enumerate(temp_list):\n",
        "        if data >=50 and data < 60:\n",
        "            sum_val +=data\n",
        "            data_cnt += 1\n",
        "    mean = sum_val / data_cnt\n",
        "    return mean"
      ],
      "metadata": {
        "id": "GVqjGWTdFrwu"
      },
      "execution_count": 12,
      "outputs": []
    },
    {
      "cell_type": "code",
      "source": [
        "temp_list1 = [(i+10) for i in range(100)]\n",
        "cond_avg1(temp_list1)"
      ],
      "metadata": {
        "colab": {
          "base_uri": "https://localhost:8080/"
        },
        "id": "oU3twRDPGVV0",
        "outputId": "c995bc44-1d35-49a6-dcab-a91c9942d66b"
      },
      "execution_count": 13,
      "outputs": [
        {
          "output_type": "execute_result",
          "data": {
            "text/plain": [
              "54.5"
            ]
          },
          "metadata": {},
          "execution_count": 13
        }
      ]
    },
    {
      "cell_type": "code",
      "source": [
        "def max_min(temp_list):\n",
        "    M,m = None, None\n",
        "    for data in temp_list:\n",
        "        if M == None or data > M:\n",
        "            M = data\n",
        "        if m == None or data <m:\n",
        "            m = data\n",
        "    return M,m"
      ],
      "metadata": {
        "id": "BQ7izaiVGaSJ"
      },
      "execution_count": 18,
      "outputs": []
    },
    {
      "cell_type": "code",
      "source": [
        "temp_list1 = [(i+10) for i in range(100)]\n",
        "max_min(temp_list1)"
      ],
      "metadata": {
        "colab": {
          "base_uri": "https://localhost:8080/"
        },
        "id": "t4GjhQSpHfY7",
        "outputId": "4ae69b0c-0771-4790-ef44-26f37c47597c"
      },
      "execution_count": 19,
      "outputs": [
        {
          "output_type": "execute_result",
          "data": {
            "text/plain": [
              "(109, 10)"
            ]
          },
          "metadata": {},
          "execution_count": 19
        }
      ]
    },
    {
      "cell_type": "code",
      "source": [
        "def score(score_list, grade_list):\n",
        "    for score in score_list:\n",
        "        if score >= 90 and score < 100:\n",
        "            grade_list[0] = grade_list[0] + 1\n",
        "        elif score >= 80 and score <90:\n",
        "            grade_list[1] = grade_list[1] + 1\n",
        "        elif score < 80 and score >=0:\n",
        "            grade_list[2] = grade_list[2] + 1\n",
        "        else:#else 구문은 주로 예외처리\n",
        "            class ScoreError(Exception):\n",
        "                pass\n",
        "            raise ScoreError(\"INVALID SCORE\")\n",
        "\n",
        "        return grade_list\n",
        "\n"
      ],
      "metadata": {
        "id": "yXwACmiVHig2"
      },
      "execution_count": 21,
      "outputs": []
    },
    {
      "cell_type": "code",
      "source": [
        "score_list = [(i+10) for i in range(90)] + [1000]\n",
        "grade_list = [0,0,0]\n",
        "\n",
        "score(score_list, grade_list)"
      ],
      "metadata": {
        "colab": {
          "base_uri": "https://localhost:8080/"
        },
        "id": "l1jurYKZJBbH",
        "outputId": "abf6f961-96e2-4fb3-bf13-b3bddc669318"
      },
      "execution_count": 24,
      "outputs": [
        {
          "output_type": "execute_result",
          "data": {
            "text/plain": [
              "[0, 0, 1]"
            ]
          },
          "metadata": {},
          "execution_count": 24
        }
      ]
    },
    {
      "cell_type": "code",
      "source": [
        ""
      ],
      "metadata": {
        "id": "LZ1Kf0-CJO6p"
      },
      "execution_count": null,
      "outputs": []
    }
  ]
}